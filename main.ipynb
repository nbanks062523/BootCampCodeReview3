{
 "cells": [
  {
   "cell_type": "code",
   "execution_count": 12,
   "metadata": {},
   "outputs": [
    {
     "name": "stdout",
     "output_type": "stream",
     "text": [
      "[['Butterball', 3, True, ['herding sheep', 'singing', 'fetch', 'pulling sleds']], ['Kerby', 5, True, ['swimming']], ['Lucy', 5, False, ['fetch', 'solving puzzles']], ['Toaster', 2, False, []], ['Noodles', 4, True, ['pulling sleds']]]\n"
     ]
    }
   ],
   "source": [
    "# Write a function that removes any contestants that are not older than 1 \n",
    "\n",
    "contestants=[\n",
    "    [\"Binkie\",1,False,[]],\n",
    "    [\"Butterball\",3,True,[\"herding sheep\",\"singing\",\"fetch\",\"pulling sleds\"]],\n",
    "    [\"Kerby\",5,True,[\"swimming\"]],\n",
    "    [\"Lucy\",5,False,[\"fetch\",\"solving puzzles\"]],\n",
    "    [\"Toaster\",2,False,[]],\n",
    "    [\"Fifi\",1,False,[]],\n",
    "    [\"Noodles\",4,True,[\"pulling sleds\"]]\n",
    "]\n",
    "labels=[\"name\",\"age\",\"does_tricks\",\"other_talents\"]\n",
    "\n",
    "#Empty list to hold qualified contestants\n",
    "qual_contestants=[]\n",
    "\n",
    "\n",
    "def no_puppies_allowed(l_cont):\n",
    "    for c in l_cont:\n",
    "        if c[1]>1:\n",
    "            qual_contestants.append(c)\n",
    "            \n",
    "no_puppies_allowed(contestants)\n",
    "  \n",
    "print(qual_contestants) "
   ]
  },
  {
   "cell_type": "code",
   "execution_count": 41,
   "metadata": {},
   "outputs": [
    {
     "name": "stdout",
     "output_type": "stream",
     "text": [
      "[{'name': 'Butterball', 'age': 3, 'does_tricks': True, 'other_talents': ['herding sheep', 'singing', 'fetch', 'pulling sleds']}, {'name': 'Kerby', 'age': 5, 'does_tricks': True, 'other_talents': ['swimming']}, {'name': 'Lucy', 'age': 5, 'does_tricks': False, 'other_talents': ['fetch', 'solving puzzles']}, {'name': 'Toaster', 'age': 2, 'does_tricks': False, 'other_talents': []}, {'name': 'Noodles', 'age': 4, 'does_tricks': True, 'other_talents': ['pulling sleds']}]\n"
     ]
    }
   ],
   "source": [
    "#Using the return value from the 'no_puppies_allowed function,\n",
    "#Write a function the creates a dictionary for each qualified dog\n",
    "\n",
    "def lists_to_dicts(l_lab,qc):\n",
    "    return [dict(zip(l_lab,c)) for c in qc]\n",
    "\n",
    "new_dict = lists_to_dicts(labels,qual_contestants)\n",
    "print(new_dict)\n",
    "\n"
   ]
  },
  {
   "cell_type": "code",
   "execution_count": 55,
   "metadata": {},
   "outputs": [
    {
     "name": "stdout",
     "output_type": "stream",
     "text": [
      "[{'name': 'Butterball', 'age': 3, 'does_tricks': True, 'other_talents': ['herding sheep', 'singing', 'fetch', 'pulling sleds'], 'points': 0}, {'name': 'Kerby', 'age': 5, 'does_tricks': True, 'other_talents': ['swimming']}, {'name': 'Lucy', 'age': 5, 'does_tricks': False, 'other_talents': ['fetch', 'solving puzzles']}, {'name': 'Toaster', 'age': 2, 'does_tricks': False, 'other_talents': []}, {'name': 'Noodles', 'age': 4, 'does_tricks': True, 'other_talents': ['pulling sleds']}]\n"
     ]
    }
   ],
   "source": [
    "# Create a function that will add a new key value pair to each dictionary from lists_to_dicts\n",
    "# Add 1 point if 'does_tricks' is True, 1 point for each item in 'other_talents'\n",
    "# return the dictionaries that now include points\n",
    "\n",
    "def assign_points(dict_list,key_1,new_key):\n",
    "    total_points=0\n",
    "    for d in dict_list:\n",
    "        if key_1==True:\n",
    "            total_points+= 1\n",
    "            return total_points\n",
    "        #if key_2:\n",
    "        #    for i in key_2:\n",
    "        #       total_points=d[i] + 1\n",
    "        #       return total_points\n",
    "        d[new_key]=total_points\n",
    "        return dict_list\n",
    "    \n",
    "updated_dict = assign_points(new_dict,\"does_tricks\",\"points\")\n",
    "print(updated_dict)"
   ]
  }
 ],
 "metadata": {
  "kernelspec": {
   "display_name": "venv",
   "language": "python",
   "name": "python3"
  },
  "language_info": {
   "codemirror_mode": {
    "name": "ipython",
    "version": 3
   },
   "file_extension": ".py",
   "mimetype": "text/x-python",
   "name": "python",
   "nbconvert_exporter": "python",
   "pygments_lexer": "ipython3",
   "version": "3.7.17"
  }
 },
 "nbformat": 4,
 "nbformat_minor": 2
}
