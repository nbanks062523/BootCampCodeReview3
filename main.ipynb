{
 "cells": [
  {
   "cell_type": "code",
   "execution_count": 1,
   "metadata": {},
   "outputs": [
    {
     "name": "stdout",
     "output_type": "stream",
     "text": [
      "[['Butterball', 3, True, ['herding sheep', 'singing', 'fetch', 'pulling sleds']], ['Kerby', 5, True, ['swimming']], ['Lucy', 5, False, ['fetch', 'solving puzzles']], ['Toaster', 2, False, []], ['Noodles', 4, True, ['pulling sleds']]]\n"
     ]
    }
   ],
   "source": [
    "# Write a function that removes any contestants that are not older than 1 \n",
    "\n",
    "contestants=[\n",
    "    [\"Binkie\",1,False,[]],\n",
    "    [\"Butterball\",3,True,[\"herding sheep\",\"singing\",\"fetch\",\"pulling sleds\"]],\n",
    "    [\"Kerby\",5,True,[\"swimming\"]],\n",
    "    [\"Lucy\",5,False,[\"fetch\",\"solving puzzles\"]],\n",
    "    [\"Toaster\",2,False,[]],\n",
    "    [\"Fifi\",1,False,[]],\n",
    "    [\"Noodles\",4,True,[\"pulling sleds\"]]\n",
    "]\n",
    "labels=[\"name\",\"age\",\"does_tricks\",\"other_talents\"]\n",
    "\n",
    "#Empty list to hold qualified contestants\n",
    "qual_contestants=[]\n",
    "\n",
    "\n",
    "def no_puppies_allowed(l_cont):\n",
    "    for l_cont in l_cont:\n",
    "        if l_cont[1]>1:\n",
    "            qual_contestants.append(l_cont)\n",
    "            \n",
    "no_puppies_allowed(contestants)\n",
    "  \n",
    "print(qual_contestants) "
   ]
  }
 ],
 "metadata": {
  "kernelspec": {
   "display_name": "venv",
   "language": "python",
   "name": "python3"
  },
  "language_info": {
   "codemirror_mode": {
    "name": "ipython",
    "version": 3
   },
   "file_extension": ".py",
   "mimetype": "text/x-python",
   "name": "python",
   "nbconvert_exporter": "python",
   "pygments_lexer": "ipython3",
   "version": "3.7.17"
  }
 },
 "nbformat": 4,
 "nbformat_minor": 2
}
