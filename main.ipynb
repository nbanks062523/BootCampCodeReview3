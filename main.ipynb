{
 "cells": [
  {
   "cell_type": "code",
   "execution_count": 4,
   "metadata": {},
   "outputs": [
    {
     "name": "stdout",
     "output_type": "stream",
     "text": [
      "[['Butterball', 3, True, ['herding sheep', 'singing', 'fetch', 'pulling sleds']], ['Kerby', 5, True, ['swimming']], ['Lucy', 5, False, ['fetch', 'solving puzzles']], ['Toaster', 2, False, []], ['Noodles', 4, True, ['pulling sleds']]]\n"
     ]
    }
   ],
   "source": [
    "# Write a function that removes any contestants that are not older than 1 \n",
    "\n",
    "contestants=[\n",
    "    [\"Binkie\",1,False,[]],\n",
    "    [\"Butterball\",3,True,[\"herding sheep\",\"singing\",\"fetch\",\"pulling sleds\"]],\n",
    "    [\"Kerby\",5,True,[\"swimming\"]],\n",
    "    [\"Lucy\",5,False,[\"fetch\",\"solving puzzles\"]],\n",
    "    [\"Toaster\",2,False,[]],\n",
    "    [\"Fifi\",1,False,[]],\n",
    "    [\"Noodles\",4,True,[\"pulling sleds\"]]\n",
    "]\n",
    "labels=[\"name\",\"age\",\"does_tricks\",\"other_talents\"]\n",
    "\n",
    "#Empty list to hold qualified contestants\n",
    "qual_contestants=[]\n",
    "\n",
    "\n",
    "def no_puppies_allowed(l_cont):\n",
    "    for c in l_cont:\n",
    "        if c[1]>1:\n",
    "            qual_contestants.append(c)\n",
    "            \n",
    "no_puppies_allowed(contestants)\n",
    "  \n",
    "print(qual_contestants) "
   ]
  },
  {
   "cell_type": "code",
   "execution_count": 5,
   "metadata": {},
   "outputs": [
    {
     "data": {
      "text/plain": [
       "[{'name': 'Butterball',\n",
       "  'age': 3,\n",
       "  'does_tricks': True,\n",
       "  'other_talents': ['herding sheep', 'singing', 'fetch', 'pulling sleds']},\n",
       " {'name': 'Kerby',\n",
       "  'age': 5,\n",
       "  'does_tricks': True,\n",
       "  'other_talents': ['swimming']},\n",
       " {'name': 'Lucy',\n",
       "  'age': 5,\n",
       "  'does_tricks': False,\n",
       "  'other_talents': ['fetch', 'solving puzzles']},\n",
       " {'name': 'Toaster', 'age': 2, 'does_tricks': False, 'other_talents': []},\n",
       " {'name': 'Noodles',\n",
       "  'age': 4,\n",
       "  'does_tricks': True,\n",
       "  'other_talents': ['pulling sleds']}]"
      ]
     },
     "execution_count": 5,
     "metadata": {},
     "output_type": "execute_result"
    }
   ],
   "source": [
    "#Using the return value from the 'no_puppies_allowed function,\n",
    "#Write a function the creates a dictionary for each qualified dog\n",
    "\n",
    "def lists_to_dicts(l_lab,qc):\n",
    "    return [dict(zip(l_lab,c)) for c in qc]\n",
    "            \n",
    "lists_to_dicts(labels,qual_contestants)"
   ]
  }
 ],
 "metadata": {
  "kernelspec": {
   "display_name": "venv",
   "language": "python",
   "name": "python3"
  },
  "language_info": {
   "codemirror_mode": {
    "name": "ipython",
    "version": 3
   },
   "file_extension": ".py",
   "mimetype": "text/x-python",
   "name": "python",
   "nbconvert_exporter": "python",
   "pygments_lexer": "ipython3",
   "version": "3.7.17"
  }
 },
 "nbformat": 4,
 "nbformat_minor": 2
}
