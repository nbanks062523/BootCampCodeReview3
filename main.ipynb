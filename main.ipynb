{
 "cells": [
  {
   "cell_type": "code",
   "execution_count": 2,
   "metadata": {},
   "outputs": [
    {
     "name": "stdout",
     "output_type": "stream",
     "text": [
      "[['Butterball', 3, True, ['herding sheep', 'singing', 'fetch', 'pulling sleds']], ['Kerby', 5, True, ['swimming']], ['Lucy', 5, False, ['fetch', 'solving puzzles']], ['Toaster', 2, False, []], ['Noodles', 4, True, ['pulling sleds']]]\n"
     ]
    }
   ],
   "source": [
    "# Write a function that removes any contestants that are not older than 1 \n",
    "\n",
    "contestants=[\n",
    "    [\"Binkie\",1,False,[]],\n",
    "    [\"Butterball\",3,True,[\"herding sheep\",\"singing\",\"fetch\",\"pulling sleds\"]],\n",
    "    [\"Kerby\",5,True,[\"swimming\"]],\n",
    "    [\"Lucy\",5,False,[\"fetch\",\"solving puzzles\"]],\n",
    "    [\"Toaster\",2,False,[]],\n",
    "    [\"Fifi\",1,False,[]],\n",
    "    [\"Noodles\",4,True,[\"pulling sleds\"]]\n",
    "]\n",
    "labels=[\"name\",\"age\",\"does_tricks\",\"other_talents\"]\n",
    "\n",
    "#Empty list to hold qualified contestants\n",
    "qual_contestants=[]\n",
    "\n",
    "\n",
    "def no_puppies_allowed(l_cont):\n",
    "    for c in l_cont:\n",
    "        if c[1]>1:\n",
    "            qual_contestants.append(c)\n",
    "            \n",
    "no_puppies_allowed(contestants)\n",
    "  \n",
    "print(qual_contestants) "
   ]
  },
  {
   "cell_type": "code",
   "execution_count": 3,
   "metadata": {},
   "outputs": [
    {
     "name": "stdout",
     "output_type": "stream",
     "text": [
      "[{'name': 'Butterball', 'age': 3, 'does_tricks': True, 'other_talents': ['herding sheep', 'singing', 'fetch', 'pulling sleds']}, {'name': 'Kerby', 'age': 5, 'does_tricks': True, 'other_talents': ['swimming']}, {'name': 'Lucy', 'age': 5, 'does_tricks': False, 'other_talents': ['fetch', 'solving puzzles']}, {'name': 'Toaster', 'age': 2, 'does_tricks': False, 'other_talents': []}, {'name': 'Noodles', 'age': 4, 'does_tricks': True, 'other_talents': ['pulling sleds']}]\n"
     ]
    }
   ],
   "source": [
    "#Using the return value from the 'no_puppies_allowed function,\n",
    "#Write a function the creates a dictionary for each qualified dog\n",
    "\n",
    "def lists_to_dicts(l_lab,qc):\n",
    "    return [dict(zip(l_lab,c)) for c in qc]\n",
    "\n",
    "new_dict = lists_to_dicts(labels,qual_contestants)\n",
    "print(new_dict)\n",
    "\n"
   ]
  },
  {
   "cell_type": "code",
   "execution_count": 28,
   "metadata": {},
   "outputs": [
    {
     "name": "stdout",
     "output_type": "stream",
     "text": [
      "[{'name': 'Butterball', 'age': 3, 'does_tricks': True, 'other_talents': ['herding sheep', 'singing', 'fetch', 'pulling sleds'], 'points': 5}, {'name': 'Kerby', 'age': 5, 'does_tricks': True, 'other_talents': ['swimming'], 'points': 2}, {'name': 'Lucy', 'age': 5, 'does_tricks': False, 'other_talents': ['fetch', 'solving puzzles'], 'points': 2}, {'name': 'Toaster', 'age': 2, 'does_tricks': False, 'other_talents': [], 'points': 0}, {'name': 'Noodles', 'age': 4, 'does_tricks': True, 'other_talents': ['pulling sleds'], 'points': 2}]\n"
     ]
    }
   ],
   "source": [
    "# Create a function that will add a new key value pair to each dictionary from lists_to_dicts\n",
    "# Add 1 point if 'does_tricks' is True, 1 point for each item in 'other_talents'\n",
    "# return the dictionaries that now include points\n",
    "\n",
    "def assign_points(dict_list,key_1,new_key,key_2):\n",
    "        \n",
    "    for d in dict_list:\n",
    "        start_points = 0\n",
    "        addtl_points= 0\n",
    "        total_points = 0\n",
    "        if d[key_1]==True:\n",
    "            start_points = 1\n",
    "        elif d[key_1]==False:            \n",
    "            start_points= 0\n",
    "        if d[key_2]:\n",
    "            for i in d[key_2]:\n",
    "                addtl_points += 1\n",
    "        elif not d[key_2]:\n",
    "            addtl_points = 0\n",
    "        total_points = start_points + addtl_points\n",
    "        d[new_key]=total_points\n",
    "    return dict_list\n",
    "    \n",
    "#assign_points(new_dict,'does_tricks','points','other_talents')\n",
    "updated_dict = assign_points(new_dict,'does_tricks','points','other_talents')\n",
    "print(updated_dict)"
   ]
  },
  {
   "cell_type": "code",
   "execution_count": 33,
   "metadata": {},
   "outputs": [
    {
     "name": "stdout",
     "output_type": "stream",
     "text": [
      "Congratulations Butterball! You are the winner with 5 points!\n"
     ]
    }
   ],
   "source": [
    "#Write a function to find the dog with the most points and congratulate the winner by name\n",
    "def most_points(dictionary,points_key,winner_name):\n",
    "    most_points = 0\n",
    "    match_key = None\n",
    "    for d in dictionary:\n",
    "        if points_key in d:\n",
    "            cur_key_val = d[points_key]\n",
    "            if cur_key_val > most_points:\n",
    "                most_points = cur_key_val\n",
    "                match_key = d[winner_name]    \n",
    "    if match_key is not None:\n",
    "        return (most_points,match_key)\n",
    "    else:\n",
    "        return (None,None)\n",
    "pointnum,winner=most_points(updated_dict,\"points\",\"name\")\n",
    "print(f\"Congratulations {winner}! You are the winner with {pointnum} points!\")"
   ]
  },
  {
   "cell_type": "code",
   "execution_count": 39,
   "metadata": {},
   "outputs": [
    {
     "name": "stdout",
     "output_type": "stream",
     "text": [
      "Congratulations to the winner of our dog show, Butterball!!\n"
     ]
    }
   ],
   "source": [
    "#Create a 'main' function that takes two lists as arguments and runs 4 preceding functions in order\n",
    "def main(list1,list2):\n",
    "    no_puppies_allowed(list2)\n",
    "    lists_to_dicts(list1,qual_contestants)\n",
    "    assign_points(new_dict,'does_tricks','points','other_talents')\n",
    "    most_points(updated_dict,\"points\",\"name\")\n",
    "\n",
    "if __name__ == \"__main__\":\n",
    "    main(labels,contestants)\n",
    "    print(f\"Congratulations to the winner of our dog show, {winner}!!\")\n",
    "    \n",
    "    \n",
    "    "
   ]
  }
 ],
 "metadata": {
  "kernelspec": {
   "display_name": "venv",
   "language": "python",
   "name": "python3"
  },
  "language_info": {
   "codemirror_mode": {
    "name": "ipython",
    "version": 3
   },
   "file_extension": ".py",
   "mimetype": "text/x-python",
   "name": "python",
   "nbconvert_exporter": "python",
   "pygments_lexer": "ipython3",
   "version": "3.7.17"
  }
 },
 "nbformat": 4,
 "nbformat_minor": 2
}
